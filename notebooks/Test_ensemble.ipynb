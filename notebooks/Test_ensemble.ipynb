{
 "cells": [
  {
   "cell_type": "code",
   "execution_count": 2,
   "metadata": {},
   "outputs": [],
   "source": [
    "import numpy as np\n",
    "import matplotlib.pyplot as plt\n",
    "%matplotlib inline\n",
    "from sklearn.decomposition import PCA\n",
    "from mpl_toolkits.mplot3d import Axes3D\n",
    "rng = np.random.RandomState(123)\n",
    "from scipy.stats import multivariate_normal\n",
    "import seaborn as sns\n",
    "sns.set_palette(\"colorblind\")\n",
    "from mind import mind_ensemble"
   ]
  },
  {
   "cell_type": "code",
   "execution_count": 3,
   "metadata": {},
   "outputs": [],
   "source": [
    "def gen_data(rng, n=200, dim=3, clusters=2):\n",
    "    scaling = rng.choice([0,5,-5, 10, -10],size=clusters,replace=False)\n",
    "    C = [np.eye(dim)*0.2 for s in scaling]\n",
    "    mu = [rng.uniform(size=dim)*s for s in scaling]\n",
    "    print()\n",
    "    x = np.zeros((n, dim))\n",
    "    cluster_ids = np.arange(0,clusters)\n",
    "    cluster_idx = rng.choice(cluster_ids, size=n, p=1/clusters*np.ones((clusters,)))\n",
    "    for i in cluster_ids:\n",
    "        x[cluster_idx==i] = rng.multivariate_normal(mu[i], C[i], size=np.sum(cluster_idx==i))\n",
    "    return x, cluster_idx"
   ]
  },
  {
   "cell_type": "code",
   "execution_count": 4,
   "metadata": {},
   "outputs": [
    {
     "name": "stdout",
     "output_type": "stream",
     "text": [
      "\n"
     ]
    },
    {
     "data": {
      "image/png": "[encoded data removed]",
      "text/plain": [
       "<matplotlib.figure.Figure at 0x7fea08ee1828>"
      ]
     },
     "metadata": {},
     "output_type": "display_data"
    }
   ],
   "source": [
    "x, cluster_idx = gen_data(rng, clusters=4)\n",
    "for i in np.unique(cluster_idx):\n",
    "    plt.scatter(x[cluster_idx==i,0], x[cluster_idx==i,1])"
   ]
  },
  {
   "cell_type": "code",
   "execution_count": null,
   "metadata": {},
   "outputs": [],
   "source": []
  }
 ],
 "metadata": {
  "kernelspec": {
   "display_name": "Python 3",
   "language": "python",
   "name": "python3"
  },
  "language_info": {
   "codemirror_mode": {
    "name": "ipython",
    "version": 3
   },
   "file_extension": ".py",
   "mimetype": "text/x-python",
   "name": "python",
   "nbconvert_exporter": "python",
   "pygments_lexer": "ipython3",
   "version": "3.6.4"
  }
 },
 "nbformat": 4,
 "nbformat_minor": 2
}
